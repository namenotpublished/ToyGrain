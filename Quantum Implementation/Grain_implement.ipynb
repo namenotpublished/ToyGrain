{
 "cells": [
  {
   "cell_type": "code",
   "execution_count": null,
   "id": "ec5b09f4-ec0c-419e-b56c-b88443fa034d",
   "metadata": {
    "tags": []
   },
   "outputs": [],
   "source": [
    "from qiskit import *\n",
    "Key=QuantumRegister(8,'k')\n",
    "IV=QuantumRegister(8,'iv')\n",
    "Z=QuantumRegister(1,'z')\n",
    "KS=QuantumRegister(6,'ks')\n",
    "C=ClassicalRegister(6,'c')\n",
    "\n",
    "Grain=QuantumCircuit(Key,IV,Z,KS,C)\n",
    "\n",
    "#Key=01010110\n",
    "for i in {1,2,4,6}:\n",
    "    Grain.x(Key[i])\n",
    "    \n",
    "#IV=10101101\n",
    "for i in {0,2,3,5,7}:\n",
    "    Grain.x(IV[i])\n",
    "\n",
    "\n",
    "#BlackBox1\n",
    "#KSA\n",
    "for t in range(16):\n",
    "    Grain.reset(Z)\n",
    "    Grain.ccx(Key[4],IV[2],Z)\n",
    "    Grain.ccx(Key[7],IV[6],Z)\n",
    "    for i in {2,4,7}:\n",
    "           Grain.cx(Key[i],Z)\n",
    "    Grain.cx(IV[5],Z)\n",
    "    \n",
    "    for i in {2,3}:\n",
    "        Grain.cx(Key[i],Key[0])\n",
    "    l=[3,1,4]\n",
    "    m=[5,2,6]\n",
    "    for i in range(3):\n",
    "        Grain.ccx(Key[l[i]],Key[m[i]],Key[0])\n",
    "    Grain.cx(Z,Key[0])\n",
    "    Grain.cx(IV[0],Key[0])\n",
    "    \n",
    "    for i in {1,6,7}: \n",
    "        Grain.cx(IV[i], IV[0])\n",
    "    Grain.cx(Z,IV[0])\n",
    "    \n",
    "    for i in range(7):\n",
    "        Grain.swap(IV[i],IV[i+1])\n",
    "        Grain.swap(Key[i],Key[i+1])\n",
    "        \n",
    "#PRGA\n",
    "for j in range(6):\n",
    "    Grain.reset(Z)\n",
    "    Grain.ccx(Key[4],IV[2],Z)\n",
    "    Grain.ccx(Key[7],IV[6],Z)\n",
    "    for i in {2,4,7}:\n",
    "           Grain.cx(Key[i],Z)\n",
    "    Grain.cx(IV[5],Z)\n",
    "    \n",
    "    Grain.cx(Z,KS[j])\n",
    "    \n",
    "    for i in {2,3}:\n",
    "        Grain.cx(Key[i],Key[0])\n",
    "    l=[3,1,4]\n",
    "    m=[5,2,6]\n",
    "    for i in range(3):\n",
    "        Grain.ccx(Key[l[i]],Key[m[i]],Key[0])\n",
    "    Grain.cx(IV[0],Key[0])\n",
    "    \n",
    "    for i in {1,6,7}: \n",
    "        Grain.cx(IV[i], IV[0])\n",
    "    \n",
    "    for i in range(7):\n",
    "        Grain.swap(IV[i],IV[i+1])\n",
    "        Grain.swap(Key[i],Key[i+1])\n",
    "    \n",
    "\n",
    "for i in range(6):\n",
    "    Grain.measure(KS[i],C[i])\n",
    "\n",
    "\n",
    "    \n",
    "#result=\n",
    "simulator = Aer.get_backend('qasm_simulator')\n",
    "job = execute(Grain, simulator, shots=1)\n",
    "result = job.result()\n",
    "counts = result.get_counts(Grain)\n",
    "print(counts)\n"
   ]
  },
  {
   "cell_type": "code",
   "execution_count": null,
   "id": "54e95767-8cf9-43f8-8209-1131d0cc76d6",
   "metadata": {},
   "outputs": [],
   "source": [
    "from qiskit import *\n",
    "Key=QuantumRegister(8,'k')\n",
    "\n",
    "Grain=QuantumCircuit(Key,C)\n",
    "\n",
    "#Key=01010110\n",
    "for i in {1,2,4,6}:\n",
    "    Grain.x(Key[i])"
   ]
  },
  {
   "cell_type": "code",
   "execution_count": null,
   "id": "8a34d666-aa80-4e10-9bc6-be403bd06d0c",
   "metadata": {},
   "outputs": [],
   "source": []
  },
  {
   "cell_type": "code",
   "execution_count": null,
   "id": "f71239bd-e40b-446a-afae-de8e2c3bb990",
   "metadata": {},
   "outputs": [],
   "source": []
  }
 ],
 "metadata": {
  "kernelspec": {
   "display_name": "Python 3 (ipykernel)",
   "language": "python",
   "name": "python3"
  },
  "language_info": {
   "codemirror_mode": {
    "name": "ipython",
    "version": 3
   },
   "file_extension": ".py",
   "mimetype": "text/x-python",
   "name": "python",
   "nbconvert_exporter": "python",
   "pygments_lexer": "ipython3",
   "version": "3.10.8"
  },
  "widgets": {
   "application/vnd.jupyter.widget-state+json": {
    "state": {},
    "version_major": 2,
    "version_minor": 0
   }
  }
 },
 "nbformat": 4,
 "nbformat_minor": 5
}
